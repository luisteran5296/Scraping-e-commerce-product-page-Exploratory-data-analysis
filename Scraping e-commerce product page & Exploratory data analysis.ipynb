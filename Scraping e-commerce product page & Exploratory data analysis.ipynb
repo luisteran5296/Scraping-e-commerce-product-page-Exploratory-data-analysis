{
 "cells": [
  {
   "cell_type": "markdown",
   "metadata": {},
   "source": [
    "<h1 align=\"center\">Scraping e-commerce product page & Exploratory data analysis</h1> \n",
    "_______________________________________________________________________________________________________________________________\n"
   ]
  },
  {
   "cell_type": "markdown",
   "metadata": {},
   "source": [
    "<h5 align=\"center\">Luis Terán</h5> "
   ]
  },
  {
   "cell_type": "markdown",
   "metadata": {},
   "source": [
    "The aim of this project is to develop a tool for scraping an entire dataset of the products contained in an e-commerce website, transforming the web visualization into a well structured dataset. This tool should be able to scrape different products (for the same website) just by changing the word key (**wordKey variable**) defined in the beginning. \n",
    "The website used for this project is:\n",
    "\n",
    "</br><center> https://www.newegg.com/global/mx-en/ </center>\n",
    "\n",
    "(Consulted on September 5th 2020. Results may change according to date and products available for that date)\n",
    "\n",
    "The process followed by the project was:\n",
    "1. Definition of parameters: There are defined the website to scrape, the product to scrape and tools needed for it.\n",
    "2. Page scraping: The important values are searched along a page of the website.\n",
    "3. Complete dataset scraping: Search cycle of page scraping over the n number of pages available.\n",
    "4. Handling unstructured data: The raw text found is transformed into the appropriate columns.\n",
    "5. Data type definition: The columns are converted into their corresponding data type.\n",
    "6. Exploratory data analysis: An analysis is made from the information obtained from the created process.\n",
    "\n",
    "The results obtained from the presented project are the transformation of grid view of products.\n",
    "\n",
    "- View grid of products:\n",
    "\n",
    "<img src=\"images/toTransform2.png\" alt=\"Figure 1\" style=\"width: 600px;\"/><p style=\"text-align:center;font-size: 11px;\">Grid view of products</p>\n",
    "\n",
    "- Tidy dataset:\n",
    "\n",
    "<img src=\"images/transformed.png\" alt=\"Figure 2\" style=\"width: 600px;\"/><p style=\"text-align:center;font-size: 11px;\">Structured dataset</p>"
   ]
  },
  {
   "cell_type": "markdown",
   "metadata": {
    "ExecuteTime": {
     "end_time": "2020-09-12T21:10:23.651649Z",
     "start_time": "2020-09-12T21:10:23.647645Z"
    }
   },
   "source": [
    "## 1. Definition of parameters\n",
    "\n",
    "First, all the libraries needed for the project are loaded, the main job of scraping was made with the **Selenium** library. For the remaining process there are some variables that are needed, these values are:\n",
    "- Keyword: The word key variable represents the product that will be searched in the website, for the case presented the word key is \"monitor\" so the dataset of products created will correspond to different models of monitors for sale in the website.\n",
    "- URL: The selected page for scraping, in this case newegg page, the code for scrapig will change for every website. It could also change for different future changes in the source code of the website. The scraping was designed for the code in September 5th, 2020.\n",
    "- Path: Is the designated path in the computer for the Chrome webdriver (requires previous download)."
   ]
  },
  {
   "cell_type": "code",
   "execution_count": 2,
   "metadata": {
    "ExecuteTime": {
     "end_time": "2020-09-13T14:21:53.347532Z",
     "start_time": "2020-09-13T14:21:38.267512Z"
    }
   },
   "outputs": [],
   "source": [
    "# Libraries needed\n",
    "from selenium import webdriver\n",
    "from selenium.webdriver.common.keys import Keys\n",
    "from selenium.webdriver.common.by import By\n",
    "from selenium.webdriver.support.ui import WebDriverWait\n",
    "from selenium.webdriver.support import expected_conditions as EC\n",
    "from selenium.common.exceptions import NoSuchElementException \n",
    "import pandas as pd\n",
    "import seaborn as sns\n",
    "import matplotlib.pyplot as plt\n",
    "import time\n",
    "import re"
   ]
  },
  {
   "cell_type": "code",
   "execution_count": 2,
   "metadata": {
    "ExecuteTime": {
     "end_time": "2020-09-12T23:26:59.219044Z",
     "start_time": "2020-09-12T23:26:59.207895Z"
    }
   },
   "outputs": [],
   "source": [
    "# Product to search in the website\n",
    "wordKey = 'monitor'\n",
    "# Website to scrape\n",
    "url = 'https://www.newegg.com/global/mx-en/'\n",
    "# Location of web driver\n",
    "path = 'C:\\Program Files (x86)\\chromedriver.exe'"
   ]
  },
  {
   "cell_type": "markdown",
   "metadata": {},
   "source": [
    "## 2. Page Scraping"
   ]
  },
  {
   "cell_type": "markdown",
   "metadata": {},
   "source": [
    "What is meant for page scraping is to collect all the data present in one page of the website. The steps for it are as follows:\n",
    "\n",
    "- Open the web driving and search for the url defined in the parameter section\n",
    "\n",
    "<img src=\"images/page.png\" alt=\"Figure 3\" style=\"width: 400px;\"/><p style=\"text-align:center;font-size: 11px;\">Page loaded in webdriver </p>\n",
    "- Search for the product selected in the wordKey variable\n",
    "\n",
    "<img src=\"images/searchBar.png\" alt=\"Figure 4\" style=\"width: 600px;\"/><p style=\"text-align:center;font-size: 11px;\">Search of the product</p>\n",
    "- Get the source code of the page of the first page of results and start to scan the code for specific elements, in this case: Brand, price, rating, reviews and description.        \n",
    "        \n",
    "Since we only search in the first page, we only get the first 36 products."
   ]
  },
  {
   "cell_type": "code",
   "execution_count": 4,
   "metadata": {
    "ExecuteTime": {
     "end_time": "2020-09-12T23:32:40.982734Z",
     "start_time": "2020-09-12T23:32:06.754411Z"
    }
   },
   "outputs": [],
   "source": [
    "# Setting the web driver\n",
    "driver = webdriver.Chrome(path)\n",
    "# The url is entered into the webdriver\n",
    "driver.get(url)\n",
    "\n",
    "# The search box is finded\n",
    "search = driver.find_element_by_id(\"SearchBox2020\")\n",
    "# The word is entered into the search box\n",
    "search.send_keys(wordKey)\n",
    "search.send_keys(Keys.RETURN)\n",
    "\n",
    "# The lists of elements to search for are created\n",
    "titles = []\n",
    "ratings = []\n",
    "reviews = []\n",
    "brands = []\n",
    "prices = []\n",
    "#The exception handling is made to avoid crashes\n",
    "try:\n",
    "    # The loading wait is defined before the search\n",
    "    app = WebDriverWait(driver, 10).until(\n",
    "        EC.presence_of_element_located((By.ID, \"app\"))\n",
    "    )\n",
    "    # The items source code is finded\n",
    "    listed = app.find_element_by_class_name(\"list-wrap\")  \n",
    "    items = listed.find_elements_by_class_name(\"item-container\")    \n",
    "    \n",
    "    #For every item present in the source code the code is scanned for the elements we are looking for\n",
    "    for item in items:         \n",
    "        title = item.find_element_by_class_name(\"item-title\") \n",
    "        titles.append(title.text)\n",
    "        review = item.find_element_by_class_name(\"item-rating\") \n",
    "        reviews.append(review.text)\n",
    "        rating = item.find_element_by_class_name(\"item-rating\") \n",
    "        ratings.append(rating.get_attribute(\"title\"))\n",
    "        divbrand = item.find_element_by_class_name(\"item-branding\") \n",
    "        abrand = divbrand.find_element_by_tag_name(\"a\")\n",
    "        brand = abrand.find_element_by_tag_name(\"img\")\n",
    "        brands.append(brand.get_attribute('title'))        \n",
    "        price = item.find_element_by_xpath(\"./div[contains(@class, 'item-action')]/ul/li[contains(@class, 'price-current')]/strong\")\n",
    "        prices.append(price.text)        \n",
    "finally:\n",
    "    driver.quit()\n",
    "\n",
    "# The webdriver is closed\n",
    "driver.quit()"
   ]
  },
  {
   "cell_type": "code",
   "execution_count": 7,
   "metadata": {
    "ExecuteTime": {
     "end_time": "2020-09-12T23:40:14.336679Z",
     "start_time": "2020-09-12T23:40:14.296916Z"
    }
   },
   "outputs": [
    {
     "data": {
      "text/html": [
       "<div>\n",
       "<style scoped>\n",
       "    .dataframe tbody tr th:only-of-type {\n",
       "        vertical-align: middle;\n",
       "    }\n",
       "\n",
       "    .dataframe tbody tr th {\n",
       "        vertical-align: top;\n",
       "    }\n",
       "\n",
       "    .dataframe thead th {\n",
       "        text-align: right;\n",
       "    }\n",
       "</style>\n",
       "<table border=\"1\" class=\"dataframe\">\n",
       "  <thead>\n",
       "    <tr style=\"text-align: right;\">\n",
       "      <th></th>\n",
       "      <th>Brand</th>\n",
       "      <th>Price</th>\n",
       "      <th>Rating</th>\n",
       "      <th>Reviews</th>\n",
       "      <th>Description</th>\n",
       "    </tr>\n",
       "  </thead>\n",
       "  <tbody>\n",
       "    <tr>\n",
       "      <td>0</td>\n",
       "      <td>ASUS</td>\n",
       "      <td>4,233</td>\n",
       "      <td>Rating + 4</td>\n",
       "      <td>(1,349)</td>\n",
       "      <td>ASUS TUF Gaming VG24VQ 24\" Full HD 1920 x 1080...</td>\n",
       "    </tr>\n",
       "    <tr>\n",
       "      <td>1</td>\n",
       "      <td>ASUS</td>\n",
       "      <td>3,787</td>\n",
       "      <td>Rating + 5</td>\n",
       "      <td>(76)</td>\n",
       "      <td>ASUS VG245H Black 24\" 1ms (GTG) Widescreen 2x ...</td>\n",
       "    </tr>\n",
       "    <tr>\n",
       "      <td>2</td>\n",
       "      <td>GIGABYTE</td>\n",
       "      <td>5,570</td>\n",
       "      <td>Rating + 5</td>\n",
       "      <td>(84)</td>\n",
       "      <td>GIGABYTE G27FC 27\" 165Hz 1080P Curved Gaming M...</td>\n",
       "    </tr>\n",
       "    <tr>\n",
       "      <td>3</td>\n",
       "      <td>GIGABYTE</td>\n",
       "      <td>5,570</td>\n",
       "      <td>Rating + 5</td>\n",
       "      <td>(44)</td>\n",
       "      <td>GIGABYTE G27F 27\" 144Hz 1080P Gaming Monitor, ...</td>\n",
       "    </tr>\n",
       "    <tr>\n",
       "      <td>4</td>\n",
       "      <td>Acer America</td>\n",
       "      <td>6,462</td>\n",
       "      <td>Rating + 4</td>\n",
       "      <td>(322)</td>\n",
       "      <td>Acer XG270HU omidpx 27\" 2K 2560 x 1440 1ms 144...</td>\n",
       "    </tr>\n",
       "    <tr>\n",
       "      <td>5</td>\n",
       "      <td>GIGABYTE</td>\n",
       "      <td>8,243</td>\n",
       "      <td>Rating + 4</td>\n",
       "      <td>(213)</td>\n",
       "      <td>GIGABYTE G32QC 32\" (Actual size 31.5\") WQHD 25...</td>\n",
       "    </tr>\n",
       "    <tr>\n",
       "      <td>6</td>\n",
       "      <td>MSI</td>\n",
       "      <td>4,010</td>\n",
       "      <td>Rating + 4</td>\n",
       "      <td>(158)</td>\n",
       "      <td>MSI Optix G24C 24\" (Actual size 23.6\") Full HD...</td>\n",
       "    </tr>\n",
       "    <tr>\n",
       "      <td>7</td>\n",
       "      <td>BenQ</td>\n",
       "      <td>2,673</td>\n",
       "      <td>Rating + 5</td>\n",
       "      <td>(14)</td>\n",
       "      <td>BenQ GL2480 24\" Full HD 1920 x 1080 1ms (GTG) ...</td>\n",
       "    </tr>\n",
       "    <tr>\n",
       "      <td>8</td>\n",
       "      <td>ASUS</td>\n",
       "      <td>8,912</td>\n",
       "      <td>Rating + 4</td>\n",
       "      <td>(147)</td>\n",
       "      <td>ASUS TUF GAMING VG27WQ 27\" WQHD 2560 x 1440 (2...</td>\n",
       "    </tr>\n",
       "    <tr>\n",
       "      <td>9</td>\n",
       "      <td>Acer America</td>\n",
       "      <td>2,852</td>\n",
       "      <td>Rating + 4</td>\n",
       "      <td>(132)</td>\n",
       "      <td>Acer Nitro Gaming Series VG220Q bmiix 22\" (21....</td>\n",
       "    </tr>\n",
       "  </tbody>\n",
       "</table>\n",
       "</div>"
      ],
      "text/plain": [
       "          Brand  Price      Rating  Reviews  \\\n",
       "0          ASUS  4,233  Rating + 4  (1,349)   \n",
       "1          ASUS  3,787  Rating + 5     (76)   \n",
       "2      GIGABYTE  5,570  Rating + 5     (84)   \n",
       "3      GIGABYTE  5,570  Rating + 5     (44)   \n",
       "4  Acer America  6,462  Rating + 4    (322)   \n",
       "5      GIGABYTE  8,243  Rating + 4    (213)   \n",
       "6           MSI  4,010  Rating + 4    (158)   \n",
       "7          BenQ  2,673  Rating + 5     (14)   \n",
       "8          ASUS  8,912  Rating + 4    (147)   \n",
       "9  Acer America  2,852  Rating + 4    (132)   \n",
       "\n",
       "                                         Description  \n",
       "0  ASUS TUF Gaming VG24VQ 24\" Full HD 1920 x 1080...  \n",
       "1  ASUS VG245H Black 24\" 1ms (GTG) Widescreen 2x ...  \n",
       "2  GIGABYTE G27FC 27\" 165Hz 1080P Curved Gaming M...  \n",
       "3  GIGABYTE G27F 27\" 144Hz 1080P Gaming Monitor, ...  \n",
       "4  Acer XG270HU omidpx 27\" 2K 2560 x 1440 1ms 144...  \n",
       "5  GIGABYTE G32QC 32\" (Actual size 31.5\") WQHD 25...  \n",
       "6  MSI Optix G24C 24\" (Actual size 23.6\") Full HD...  \n",
       "7  BenQ GL2480 24\" Full HD 1920 x 1080 1ms (GTG) ...  \n",
       "8  ASUS TUF GAMING VG27WQ 27\" WQHD 2560 x 1440 (2...  \n",
       "9  Acer Nitro Gaming Series VG220Q bmiix 22\" (21....  "
      ]
     },
     "execution_count": 7,
     "metadata": {},
     "output_type": "execute_result"
    }
   ],
   "source": [
    "# A dataframe is created with the lists of elements \n",
    "df = pd.DataFrame(list(zip(brands, prices, ratings, reviews, titles)), columns=['Brand','Price', 'Rating', 'Reviews', 'Description'])\n",
    "df.head(10)"
   ]
  },
  {
   "cell_type": "code",
   "execution_count": 8,
   "metadata": {
    "ExecuteTime": {
     "end_time": "2020-09-12T23:40:53.934842Z",
     "start_time": "2020-09-12T23:40:53.917060Z"
    }
   },
   "outputs": [
    {
     "data": {
      "text/plain": [
       "(36, 5)"
      ]
     },
     "execution_count": 8,
     "metadata": {},
     "output_type": "execute_result"
    }
   ],
   "source": [
    "# The number of elements is displayed as (# of rows, # of columns)\n",
    "df.shape"
   ]
  },
  {
   "cell_type": "markdown",
   "metadata": {},
   "source": [
    "## 3. Complete dataset scraping \n",
    "\n",
    "Once we did the process for one page is time to repeat the process for the total number of pages in the results. In order to do that the \"Page Scraping\" section is encapsulated into a function for later iteration, in this function try-except handling exceptions were introduced for not available values for an item. The process goes like this:\n",
    "\n",
    "- The page is loaded and the wordKey is entered into the search box just as before.\n",
    "- Before the scan of elements for the dataset, the number of pages available for the product search is scanned from the bottom part of the page.\n",
    "<img src=\"images/bottomPages.png\" alt=\"Figure 1\" style=\"width: 600px;\"/><p style=\"text-align:center;font-size: 11px;\">Number of pages</p>\n",
    "- Then the function for scanning information for all the items in the page gets executed (findObjects function).\n",
    "- The next bottom is searched and clicked from the bottom section of the page.\n",
    "<img src=\"images/bottomNext.png\" alt=\"Figure 1\" style=\"width: 600px;\"/><p style=\"text-align:center;font-size: 11px;\">Next page button</p>\n",
    "- These steps are repeated n number of times, being n the resulting of pages available - 1"
   ]
  },
  {
   "cell_type": "code",
   "execution_count": 13,
   "metadata": {
    "ExecuteTime": {
     "end_time": "2020-09-05T19:54:32.818991Z",
     "start_time": "2020-09-05T19:31:08.729282Z"
    }
   },
   "outputs": [
    {
     "name": "stdout",
     "output_type": "stream",
     "text": [
      "34\n"
     ]
    }
   ],
   "source": [
    "# Setting the web driver\n",
    "driver = webdriver.Chrome(path)\n",
    "driver.get(url)\n",
    "\n",
    "# The wordKey is searched\n",
    "search = driver.find_element_by_id(\"SearchBox2020\")\n",
    "search.send_keys(wordKey)\n",
    "search.send_keys(Keys.RETURN)\n",
    "\n",
    "# The initial dataframe is created\n",
    "df = pd.DataFrame() \n",
    "\n",
    "# Function to iterate the process of finding lists of elements\n",
    "def findObjects (app):    \n",
    "    titles = []\n",
    "    ratings = []\n",
    "    reviews = []\n",
    "    brands = []\n",
    "    prices = []\n",
    "    \n",
    "    listed = app.find_element_by_class_name(\"list-wrap\")  \n",
    "    items = listed.find_elements_by_class_name(\"item-container\") \n",
    "    \n",
    "    for item in items:\n",
    "        try:\n",
    "            title = item.find_element_by_class_name(\"item-title\") \n",
    "            titles.append(title.text) \n",
    "        except:\n",
    "            titles.append('NA')\n",
    "        try:\n",
    "            review = item.find_element_by_class_name(\"item-rating\") \n",
    "            reviews.append(review.text)\n",
    "        except NoSuchElementException:\n",
    "            reviews.append(0)\n",
    "        try:\n",
    "            rating = item.find_element_by_class_name(\"item-rating\") \n",
    "            ratings.append(rating.get_attribute(\"title\"))\n",
    "        except NoSuchElementException:\n",
    "            ratings.append('NA')\n",
    "        try:\n",
    "            divbrand = item.find_element_by_class_name(\"item-branding\") \n",
    "            abrand = divbrand.find_element_by_tag_name(\"a\")\n",
    "            brand = abrand.find_element_by_tag_name(\"img\")\n",
    "            brands.append(brand.get_attribute('title'))   \n",
    "        except:\n",
    "            brands.append('NA')\n",
    "        try:\n",
    "            path2 = \"./div[contains(@class, 'item-action')]/ul/li[contains(@class, 'price-current')]/strong\"\n",
    "            price = item.find_element_by_xpath(path2)\n",
    "            prices.append(price.text) \n",
    "        except:\n",
    "            prices.append(0)\n",
    "    \n",
    "    data = list(zip(brands, prices, ratings, reviews, titles))\n",
    "    dfTemp = pd.DataFrame(data, columns=['Brand','Price', 'Rating', 'Reviews', 'Description'])\n",
    "    \n",
    "    return (dfTemp)\n",
    "\n",
    "# The search of lists is iterated n number of times, being n = number of pages - 1\n",
    "try:\n",
    "    app = WebDriverWait(driver, 10).until(\n",
    "        EC.presence_of_element_located((By.ID, \"app\"))\n",
    "    )    \n",
    "    numPages = app.find_element_by_class_name(\"list-tool-pagination-text\")\n",
    "    numPages = (int(numPages.text.split('/')[1]))\n",
    "    print (numPages)  \n",
    "        \n",
    "    time.sleep(5)\n",
    "    #goToNextPage(driver)\n",
    "    for i in range (numPages-1):\n",
    "        time.sleep(10)\n",
    "        WebDriverWait(driver, 10).until(EC.element_to_be_clickable((By.CSS_SELECTOR, \"[title^='Next']\"))).click()\n",
    "        app = WebDriverWait(driver, 10).until(\n",
    "            EC.presence_of_element_located((By.ID, \"app\"))\n",
    "        )    \n",
    "        \n",
    "        dfTemp = findObjects(app)\n",
    "        df = df.append(dfTemp)\n",
    "        time.sleep(10)\n",
    "\n",
    "finally:\n",
    "    driver.quit()\n",
    "    \n",
    "# The webdriver is closed    \n",
    "driver.quit()"
   ]
  },
  {
   "cell_type": "code",
   "execution_count": 14,
   "metadata": {
    "ExecuteTime": {
     "end_time": "2020-09-05T19:56:55.410282Z",
     "start_time": "2020-09-05T19:56:55.370276Z"
    }
   },
   "outputs": [
    {
     "data": {
      "text/html": [
       "<div>\n",
       "<style scoped>\n",
       "    .dataframe tbody tr th:only-of-type {\n",
       "        vertical-align: middle;\n",
       "    }\n",
       "\n",
       "    .dataframe tbody tr th {\n",
       "        vertical-align: top;\n",
       "    }\n",
       "\n",
       "    .dataframe thead th {\n",
       "        text-align: right;\n",
       "    }\n",
       "</style>\n",
       "<table border=\"1\" class=\"dataframe\">\n",
       "  <thead>\n",
       "    <tr style=\"text-align: right;\">\n",
       "      <th></th>\n",
       "      <th>Brand</th>\n",
       "      <th>Price</th>\n",
       "      <th>Rating</th>\n",
       "      <th>Reviews</th>\n",
       "      <th>Description</th>\n",
       "    </tr>\n",
       "  </thead>\n",
       "  <tbody>\n",
       "    <tr>\n",
       "      <td>0</td>\n",
       "      <td>MSI</td>\n",
       "      <td>5,706</td>\n",
       "      <td>Rating + 4</td>\n",
       "      <td>(9)</td>\n",
       "      <td>MSI Optix MAG270VC2 27\" Full HD 1920 x 1080 1m...</td>\n",
       "    </tr>\n",
       "    <tr>\n",
       "      <td>1</td>\n",
       "      <td>SAMSUNG</td>\n",
       "      <td>2,273</td>\n",
       "      <td>Rating + 4</td>\n",
       "      <td>(3)</td>\n",
       "      <td>SAMSUNG LS24F354FHNXZA 24\" (Actual size 23.5\")...</td>\n",
       "    </tr>\n",
       "    <tr>\n",
       "      <td>2</td>\n",
       "      <td>Acer America</td>\n",
       "      <td>4,565</td>\n",
       "      <td>Rating + 3</td>\n",
       "      <td>(36)</td>\n",
       "      <td>Acer ED322QR Pbmiipx 32\" (Actual size 31.5\") F...</td>\n",
       "    </tr>\n",
       "    <tr>\n",
       "      <td>3</td>\n",
       "      <td>Acer America</td>\n",
       "      <td>4,991</td>\n",
       "      <td>Rating + 3</td>\n",
       "      <td>(22)</td>\n",
       "      <td>Acer ED270R 27\" Black 1920 x 1080 Widescreen 1...</td>\n",
       "    </tr>\n",
       "    <tr>\n",
       "      <td>4</td>\n",
       "      <td>Acer America</td>\n",
       "      <td>2,301</td>\n",
       "      <td>Rating + 3</td>\n",
       "      <td>(18)</td>\n",
       "      <td>Acer KG221Q Abmix 22\" (Actual size 21.5\") 1ms ...</td>\n",
       "    </tr>\n",
       "    <tr>\n",
       "      <td>5</td>\n",
       "      <td>BenQ</td>\n",
       "      <td>10,427</td>\n",
       "      <td>Rating + 5</td>\n",
       "      <td>(16)</td>\n",
       "      <td>BenQ EW3270U 32\" (Actual size 31.5\") 3840 x 21...</td>\n",
       "    </tr>\n",
       "    <tr>\n",
       "      <td>6</td>\n",
       "      <td>Acer America</td>\n",
       "      <td>9,176</td>\n",
       "      <td>Rating + 4</td>\n",
       "      <td>(112)</td>\n",
       "      <td>Acer Predator XB1 XB241H bmipr 24\" Full HD 192...</td>\n",
       "    </tr>\n",
       "    <tr>\n",
       "      <td>7</td>\n",
       "      <td>ViewSonic</td>\n",
       "      <td>13,279</td>\n",
       "      <td>Rating + 5</td>\n",
       "      <td>(11)</td>\n",
       "      <td>ViewSonic ELITE XG270QG 27\" Quad HD 2560 x 144...</td>\n",
       "    </tr>\n",
       "    <tr>\n",
       "      <td>8</td>\n",
       "      <td>MSI</td>\n",
       "      <td>5,911</td>\n",
       "      <td>Rating + 5</td>\n",
       "      <td>(8)</td>\n",
       "      <td>MSI Optix G32C4 31.5\" 1920 x 1080 1 ms (MPRT) ...</td>\n",
       "    </tr>\n",
       "    <tr>\n",
       "      <td>9</td>\n",
       "      <td>Acer America</td>\n",
       "      <td>7,504</td>\n",
       "      <td>Rating + 5</td>\n",
       "      <td>(7)</td>\n",
       "      <td>Acer Nitro XZ322Q Pbmiiphx 31.5\" FULL HD 165Hz...</td>\n",
       "    </tr>\n",
       "    <tr>\n",
       "      <td>10</td>\n",
       "      <td>LG Electronics</td>\n",
       "      <td>9,318</td>\n",
       "      <td>Rating + 5</td>\n",
       "      <td>(6)</td>\n",
       "      <td>LG 27GN750-B 27'' Full HD 1920 x 1080 1ms (GTG...</td>\n",
       "    </tr>\n",
       "    <tr>\n",
       "      <td>11</td>\n",
       "      <td>Acer America</td>\n",
       "      <td>17,206</td>\n",
       "      <td>Rating + 4</td>\n",
       "      <td>(42)</td>\n",
       "      <td>Acer Predator X34 Pbmiphzx 34\" 3440 x 1440 Ult...</td>\n",
       "    </tr>\n",
       "    <tr>\n",
       "      <td>12</td>\n",
       "      <td>Acer America</td>\n",
       "      <td>2,666</td>\n",
       "      <td>Rating + 5</td>\n",
       "      <td>(3)</td>\n",
       "      <td>Acer V227Q bi 22\" (Actual size 21.5\") Full HD ...</td>\n",
       "    </tr>\n",
       "    <tr>\n",
       "      <td>13</td>\n",
       "      <td>BenQ</td>\n",
       "      <td>6,125</td>\n",
       "      <td>Rating + 5</td>\n",
       "      <td>(2)</td>\n",
       "      <td>BenQ ZOWIE XL2731 27\" Full HD 1920 x 1080 1ms ...</td>\n",
       "    </tr>\n",
       "    <tr>\n",
       "      <td>14</td>\n",
       "      <td>SAMSUNG</td>\n",
       "      <td>7,958</td>\n",
       "      <td>Rating + 4</td>\n",
       "      <td>(16)</td>\n",
       "      <td>SAMSUNG C32JG56 32\" WQHD 2560 x 1440 2K Resolu...</td>\n",
       "    </tr>\n",
       "    <tr>\n",
       "      <td>15</td>\n",
       "      <td>BenQ</td>\n",
       "      <td>4,514</td>\n",
       "      <td>Rating + 4</td>\n",
       "      <td>(17)</td>\n",
       "      <td>BenQ ZOWIE XL Series XL2411P Dark Gray 24\" 144...</td>\n",
       "    </tr>\n",
       "    <tr>\n",
       "      <td>16</td>\n",
       "      <td>ViewSonic</td>\n",
       "      <td>3,865</td>\n",
       "      <td>Rating + 4</td>\n",
       "      <td>(14)</td>\n",
       "      <td>ViewSonic VX2458-MHD 24\" Full HD 1920 x 1080 1...</td>\n",
       "    </tr>\n",
       "    <tr>\n",
       "      <td>17</td>\n",
       "      <td>SAMSUNG</td>\n",
       "      <td>17,120</td>\n",
       "      <td>Rating + 4</td>\n",
       "      <td>(13)</td>\n",
       "      <td>SAMSUNG LC32G75TQSNXZA 32\" (Actual Size 31.5\")...</td>\n",
       "    </tr>\n",
       "    <tr>\n",
       "      <td>18</td>\n",
       "      <td>ASUS</td>\n",
       "      <td>6,806</td>\n",
       "      <td>Rating + 4</td>\n",
       "      <td>(10)</td>\n",
       "      <td>ASUS TUF Gaming VG328H1B 32\" Full HD 1920 x 10...</td>\n",
       "    </tr>\n",
       "    <tr>\n",
       "      <td>19</td>\n",
       "      <td>ASUS</td>\n",
       "      <td>10,094</td>\n",
       "      <td>Rating + 4</td>\n",
       "      <td>(10)</td>\n",
       "      <td>ASUS TUF Gaming VG32VQ 32\" (Actual size 31.5\")...</td>\n",
       "    </tr>\n",
       "  </tbody>\n",
       "</table>\n",
       "</div>"
      ],
      "text/plain": [
       "             Brand   Price      Rating Reviews  \\\n",
       "0              MSI   5,706  Rating + 4     (9)   \n",
       "1          SAMSUNG   2,273  Rating + 4     (3)   \n",
       "2     Acer America   4,565  Rating + 3    (36)   \n",
       "3     Acer America   4,991  Rating + 3    (22)   \n",
       "4     Acer America   2,301  Rating + 3    (18)   \n",
       "5             BenQ  10,427  Rating + 5    (16)   \n",
       "6     Acer America   9,176  Rating + 4   (112)   \n",
       "7        ViewSonic  13,279  Rating + 5    (11)   \n",
       "8              MSI   5,911  Rating + 5     (8)   \n",
       "9     Acer America   7,504  Rating + 5     (7)   \n",
       "10  LG Electronics   9,318  Rating + 5     (6)   \n",
       "11    Acer America  17,206  Rating + 4    (42)   \n",
       "12    Acer America   2,666  Rating + 5     (3)   \n",
       "13            BenQ   6,125  Rating + 5     (2)   \n",
       "14         SAMSUNG   7,958  Rating + 4    (16)   \n",
       "15            BenQ   4,514  Rating + 4    (17)   \n",
       "16       ViewSonic   3,865  Rating + 4    (14)   \n",
       "17         SAMSUNG  17,120  Rating + 4    (13)   \n",
       "18            ASUS   6,806  Rating + 4    (10)   \n",
       "19            ASUS  10,094  Rating + 4    (10)   \n",
       "\n",
       "                                          Description  \n",
       "0   MSI Optix MAG270VC2 27\" Full HD 1920 x 1080 1m...  \n",
       "1   SAMSUNG LS24F354FHNXZA 24\" (Actual size 23.5\")...  \n",
       "2   Acer ED322QR Pbmiipx 32\" (Actual size 31.5\") F...  \n",
       "3   Acer ED270R 27\" Black 1920 x 1080 Widescreen 1...  \n",
       "4   Acer KG221Q Abmix 22\" (Actual size 21.5\") 1ms ...  \n",
       "5   BenQ EW3270U 32\" (Actual size 31.5\") 3840 x 21...  \n",
       "6   Acer Predator XB1 XB241H bmipr 24\" Full HD 192...  \n",
       "7   ViewSonic ELITE XG270QG 27\" Quad HD 2560 x 144...  \n",
       "8   MSI Optix G32C4 31.5\" 1920 x 1080 1 ms (MPRT) ...  \n",
       "9   Acer Nitro XZ322Q Pbmiiphx 31.5\" FULL HD 165Hz...  \n",
       "10  LG 27GN750-B 27'' Full HD 1920 x 1080 1ms (GTG...  \n",
       "11  Acer Predator X34 Pbmiphzx 34\" 3440 x 1440 Ult...  \n",
       "12  Acer V227Q bi 22\" (Actual size 21.5\") Full HD ...  \n",
       "13  BenQ ZOWIE XL2731 27\" Full HD 1920 x 1080 1ms ...  \n",
       "14  SAMSUNG C32JG56 32\" WQHD 2560 x 1440 2K Resolu...  \n",
       "15  BenQ ZOWIE XL Series XL2411P Dark Gray 24\" 144...  \n",
       "16  ViewSonic VX2458-MHD 24\" Full HD 1920 x 1080 1...  \n",
       "17  SAMSUNG LC32G75TQSNXZA 32\" (Actual Size 31.5\")...  \n",
       "18  ASUS TUF Gaming VG328H1B 32\" Full HD 1920 x 10...  \n",
       "19  ASUS TUF Gaming VG32VQ 32\" (Actual size 31.5\")...  "
      ]
     },
     "execution_count": 14,
     "metadata": {},
     "output_type": "execute_result"
    }
   ],
   "source": [
    "# The complete dataset is extracted from the page\n",
    "df.head(20)"
   ]
  },
  {
   "cell_type": "code",
   "execution_count": 15,
   "metadata": {
    "ExecuteTime": {
     "end_time": "2020-09-05T19:56:57.420151Z",
     "start_time": "2020-09-05T19:56:57.413149Z"
    },
    "scrolled": true
   },
   "outputs": [
    {
     "data": {
      "text/plain": [
       "(1174, 5)"
      ]
     },
     "execution_count": 15,
     "metadata": {},
     "output_type": "execute_result"
    }
   ],
   "source": [
    "# The resulting dataset contains 1174 products\n",
    "df.shape"
   ]
  },
  {
   "cell_type": "code",
   "execution_count": 17,
   "metadata": {
    "ExecuteTime": {
     "end_time": "2020-09-05T19:58:43.814319Z",
     "start_time": "2020-09-05T19:58:43.811318Z"
    }
   },
   "outputs": [],
   "source": [
    "# The dataset is saved into a CSV file\n",
    "df.to_csv(\"data.csv\")"
   ]
  },
  {
   "cell_type": "markdown",
   "metadata": {},
   "source": [
    "## 4. Handling unstructured data"
   ]
  },
  {
   "cell_type": "markdown",
   "metadata": {},
   "source": [
    "After collecting all the data, we have created a file with all the products available in the page for the wordKey entered, but these information of the products is not in the appropriate format for the analysis. Most of the variable are in text format, and the description contains more information but it is in raw text."
   ]
  },
  {
   "cell_type": "code",
   "execution_count": 14,
   "metadata": {
    "ExecuteTime": {
     "end_time": "2020-09-13T16:42:41.778231Z",
     "start_time": "2020-09-13T16:42:41.734209Z"
    }
   },
   "outputs": [
    {
     "data": {
      "text/html": [
       "<div>\n",
       "<style scoped>\n",
       "    .dataframe tbody tr th:only-of-type {\n",
       "        vertical-align: middle;\n",
       "    }\n",
       "\n",
       "    .dataframe tbody tr th {\n",
       "        vertical-align: top;\n",
       "    }\n",
       "\n",
       "    .dataframe thead th {\n",
       "        text-align: right;\n",
       "    }\n",
       "</style>\n",
       "<table border=\"1\" class=\"dataframe\">\n",
       "  <thead>\n",
       "    <tr style=\"text-align: right;\">\n",
       "      <th></th>\n",
       "      <th>Unnamed: 0</th>\n",
       "      <th>Brand</th>\n",
       "      <th>Price</th>\n",
       "      <th>Rating</th>\n",
       "      <th>Reviews</th>\n",
       "      <th>Description</th>\n",
       "    </tr>\n",
       "  </thead>\n",
       "  <tbody>\n",
       "    <tr>\n",
       "      <td>0</td>\n",
       "      <td>0</td>\n",
       "      <td>MSI</td>\n",
       "      <td>5,706</td>\n",
       "      <td>Rating + 4</td>\n",
       "      <td>(9)</td>\n",
       "      <td>MSI Optix MAG270VC2 27\" Full HD 1920 x 1080 1m...</td>\n",
       "    </tr>\n",
       "    <tr>\n",
       "      <td>1</td>\n",
       "      <td>1</td>\n",
       "      <td>SAMSUNG</td>\n",
       "      <td>2,273</td>\n",
       "      <td>Rating + 4</td>\n",
       "      <td>(3)</td>\n",
       "      <td>SAMSUNG LS24F354FHNXZA 24\" (Actual size 23.5\")...</td>\n",
       "    </tr>\n",
       "    <tr>\n",
       "      <td>2</td>\n",
       "      <td>2</td>\n",
       "      <td>Acer America</td>\n",
       "      <td>4,565</td>\n",
       "      <td>Rating + 3</td>\n",
       "      <td>(36)</td>\n",
       "      <td>Acer ED322QR Pbmiipx 32\" (Actual size 31.5\") F...</td>\n",
       "    </tr>\n",
       "    <tr>\n",
       "      <td>3</td>\n",
       "      <td>3</td>\n",
       "      <td>Acer America</td>\n",
       "      <td>4,991</td>\n",
       "      <td>Rating + 3</td>\n",
       "      <td>(22)</td>\n",
       "      <td>Acer ED270R 27\" Black 1920 x 1080 Widescreen 1...</td>\n",
       "    </tr>\n",
       "    <tr>\n",
       "      <td>4</td>\n",
       "      <td>4</td>\n",
       "      <td>Acer America</td>\n",
       "      <td>2,301</td>\n",
       "      <td>Rating + 3</td>\n",
       "      <td>(18)</td>\n",
       "      <td>Acer KG221Q Abmix 22\" (Actual size 21.5\") 1ms ...</td>\n",
       "    </tr>\n",
       "  </tbody>\n",
       "</table>\n",
       "</div>"
      ],
      "text/plain": [
       "   Unnamed: 0         Brand  Price      Rating Reviews  \\\n",
       "0           0           MSI  5,706  Rating + 4     (9)   \n",
       "1           1       SAMSUNG  2,273  Rating + 4     (3)   \n",
       "2           2  Acer America  4,565  Rating + 3    (36)   \n",
       "3           3  Acer America  4,991  Rating + 3    (22)   \n",
       "4           4  Acer America  2,301  Rating + 3    (18)   \n",
       "\n",
       "                                         Description  \n",
       "0  MSI Optix MAG270VC2 27\" Full HD 1920 x 1080 1m...  \n",
       "1  SAMSUNG LS24F354FHNXZA 24\" (Actual size 23.5\")...  \n",
       "2  Acer ED322QR Pbmiipx 32\" (Actual size 31.5\") F...  \n",
       "3  Acer ED270R 27\" Black 1920 x 1080 Widescreen 1...  \n",
       "4  Acer KG221Q Abmix 22\" (Actual size 21.5\") 1ms ...  "
      ]
     },
     "execution_count": 14,
     "metadata": {},
     "output_type": "execute_result"
    }
   ],
   "source": [
    "# Data file loaded\n",
    "df = pd.read_csv(\"data.csv\")\n",
    "df.head()"
   ]
  },
  {
   "cell_type": "code",
   "execution_count": 15,
   "metadata": {
    "ExecuteTime": {
     "end_time": "2020-09-13T16:42:41.930204Z",
     "start_time": "2020-09-13T16:42:41.923219Z"
    }
   },
   "outputs": [
    {
     "name": "stdout",
     "output_type": "stream",
     "text": [
      "- MSI Optix MAG270VC2 27\" Full HD 1920 x 1080 1ms (MPRT) / 4ms (GTG) 165 Hz HDMI, DisplayPort FreeSync (AMD Adaptive Sync) Curved Gaming Monitor\n",
      "\n",
      "- SAMSUNG LS24F354FHNXZA 24\" (Actual size 23.5\") Full HD 1920 x 1080 4ms (GTG) VGA HDMI AMD FreeSync Flicker Free Technology Super Slim Design LED Backlit Gaming Monitor\n",
      "\n",
      "- Acer ED322QR Pbmiipx 32\" (Actual size 31.5\") Full HD 1920 x 1080 4ms (GTG) 144Hz 2xHDMI DisplayPort Built-in Speakers AMD FreeSync Backlit LED Curved Gaming Monitor\n",
      "\n"
     ]
    }
   ],
   "source": [
    "# Description of the products in raw format\n",
    "for desc in (df['Description'][:3]):\n",
    "    print ('- '+desc+'\\n')"
   ]
  },
  {
   "cell_type": "markdown",
   "metadata": {},
   "source": [
    "\n",
    "\n",
    "First of all, we will extract the information from the raw data in the 'Description' column. Despite it's an unstructured dataset we can look for repetitive patterns just as shown below:\n",
    "\n",
    "Sequence:\n",
    "\n",
    "<center>[Brand] [Model] [size] [dimension] [Frequency] [HDMI|VGA|USB]</center></br>\n",
    "\n",
    "\n",
    "- Brand: It's the first word of every description. It's a word with only upper and lower case letters with no numbers\n",
    "- Model: It's one or multiple words following the brand. It's a sequence of words between the brand and the screen size. Also is an alphanumeric value/values.\n",
    "- Screen size: It should be a number followed by a (\"), (”) or ('') as reference for the units.\n",
    "- Dimension: It is a two digit number followed by an (x) and another two digit number. There are some optional spaces in between them.\n",
    "- Frequency: It should be a number just before a (Hz) written in upper case, lower case or a mix of them.\n",
    "- HDMI: If the description contains the word HDMI\n",
    "- VGA: If the description contains the word VGA\n",
    "- USB: If the description contains the word USB"
   ]
  },
  {
   "cell_type": "code",
   "execution_count": 16,
   "metadata": {
    "ExecuteTime": {
     "end_time": "2020-09-13T16:42:42.409208Z",
     "start_time": "2020-09-13T16:42:42.330205Z"
    }
   },
   "outputs": [],
   "source": [
    "# Function that returns a pattern for every element in a list\n",
    "def lookFor(elements, pattern, ifnot):\n",
    "    # elements: List of elements where the pattern is going to be looked for (for every element)\n",
    "    # pattern: Regex pattern to search in that list (elements)\n",
    "    # ifnot: Fill element for cases where the pattern is not found\n",
    "    patternList = []    \n",
    "    for element in elements:\n",
    "        try: \n",
    "            patternList.append(re.search(pattern, element).group(0))\n",
    "        except:\n",
    "            patternList.append(ifnot)\n",
    "    return patternList\n",
    "\n",
    "# Searching for the selected patterns in the Description column\n",
    "df['Brand2'] = lookFor(df['Description'].values, '^[a-zA-Z]*', np.nan)\n",
    "df['Model'] = lookFor(df['Description'].values, '\\s.*?(?=(?:\\\\d{1,3}\\\\.?\\\\d{0,3}[\"|”|\\'\\'])|$)', np.nan)\n",
    "df['Size'] = lookFor(df['Description'].values, '\\\\d{1,3}\\\\.?\\\\d{0,3}[\"|”|\\'\\']', np.nan)\n",
    "df['Dimensions'] = lookFor(df['Description'].values, '[\\d]*[\\s?]x[\\s?][\\d]*', np.nan)\n",
    "df['HDMI'] = lookFor(df['Description'].values, '[Hh][Dd][Mm][Ii]', 'No')\n",
    "df['VGA'] = lookFor(df['Description'].values, '[Vv][Gg][Aa]', 'No')\n",
    "df['USB'] = lookFor(df['Description'].values, '[UU][Ss][Bb]', 'No')"
   ]
  },
  {
   "cell_type": "markdown",
   "metadata": {},
   "source": [
    "## 5. Data type definition\n",
    "\n",
    "After the extraction of information from the Description column, there are still some changes to make to transform the data into the desired format: \n",
    "\n",
    "- Price: Remove all commas and change the data type to float\n",
    "- Rating: Remove the string \"Rating +\" and change the data type to float\n",
    "- Reviews: Remove commas and extract the text between parenthesis. Change the data type to float too\n",
    "- Size: Remove (\"), (”) or ('') to get only the inches length of the screen.\n",
    "- Width, Height: Split the dimensions (number x number) into two different columns named width and height.\n",
    "- HDMI: Replace HDMI/NAN to Yes/No depending if is a feature for the column.\n",
    "- VGA: Replace VGA/NAN to Yes/No depending if is a feature for the column.\n",
    "- USB: Replace USB/NAN to Yes/No depending if is a feature for the column."
   ]
  },
  {
   "cell_type": "code",
   "execution_count": 17,
   "metadata": {
    "ExecuteTime": {
     "end_time": "2020-09-13T16:42:42.777211Z",
     "start_time": "2020-09-13T16:42:42.739209Z"
    }
   },
   "outputs": [
    {
     "data": {
      "text/html": [
       "<div>\n",
       "<style scoped>\n",
       "    .dataframe tbody tr th:only-of-type {\n",
       "        vertical-align: middle;\n",
       "    }\n",
       "\n",
       "    .dataframe tbody tr th {\n",
       "        vertical-align: top;\n",
       "    }\n",
       "\n",
       "    .dataframe thead th {\n",
       "        text-align: right;\n",
       "    }\n",
       "</style>\n",
       "<table border=\"1\" class=\"dataframe\">\n",
       "  <thead>\n",
       "    <tr style=\"text-align: right;\">\n",
       "      <th></th>\n",
       "      <th>Unnamed: 0</th>\n",
       "      <th>Brand</th>\n",
       "      <th>Price</th>\n",
       "      <th>Rating</th>\n",
       "      <th>Reviews</th>\n",
       "      <th>Description</th>\n",
       "      <th>Brand2</th>\n",
       "      <th>Model</th>\n",
       "      <th>Size</th>\n",
       "      <th>Dimensions</th>\n",
       "      <th>HDMI</th>\n",
       "      <th>VGA</th>\n",
       "      <th>USB</th>\n",
       "    </tr>\n",
       "  </thead>\n",
       "  <tbody>\n",
       "    <tr>\n",
       "      <td>0</td>\n",
       "      <td>0</td>\n",
       "      <td>MSI</td>\n",
       "      <td>5,706</td>\n",
       "      <td>Rating + 4</td>\n",
       "      <td>(9)</td>\n",
       "      <td>MSI Optix MAG270VC2 27\" Full HD 1920 x 1080 1m...</td>\n",
       "      <td>MSI</td>\n",
       "      <td>Optix MAG270VC2</td>\n",
       "      <td>27\"</td>\n",
       "      <td>1920 x 1080</td>\n",
       "      <td>HDMI</td>\n",
       "      <td>No</td>\n",
       "      <td>No</td>\n",
       "    </tr>\n",
       "    <tr>\n",
       "      <td>1</td>\n",
       "      <td>1</td>\n",
       "      <td>SAMSUNG</td>\n",
       "      <td>2,273</td>\n",
       "      <td>Rating + 4</td>\n",
       "      <td>(3)</td>\n",
       "      <td>SAMSUNG LS24F354FHNXZA 24\" (Actual size 23.5\")...</td>\n",
       "      <td>SAMSUNG</td>\n",
       "      <td>LS24F354FHNXZA</td>\n",
       "      <td>24\"</td>\n",
       "      <td>1920 x 1080</td>\n",
       "      <td>HDMI</td>\n",
       "      <td>VGA</td>\n",
       "      <td>No</td>\n",
       "    </tr>\n",
       "    <tr>\n",
       "      <td>2</td>\n",
       "      <td>2</td>\n",
       "      <td>Acer America</td>\n",
       "      <td>4,565</td>\n",
       "      <td>Rating + 3</td>\n",
       "      <td>(36)</td>\n",
       "      <td>Acer ED322QR Pbmiipx 32\" (Actual size 31.5\") F...</td>\n",
       "      <td>Acer</td>\n",
       "      <td>ED322QR Pbmiipx</td>\n",
       "      <td>32\"</td>\n",
       "      <td>1920 x 1080</td>\n",
       "      <td>HDMI</td>\n",
       "      <td>No</td>\n",
       "      <td>No</td>\n",
       "    </tr>\n",
       "    <tr>\n",
       "      <td>3</td>\n",
       "      <td>3</td>\n",
       "      <td>Acer America</td>\n",
       "      <td>4,991</td>\n",
       "      <td>Rating + 3</td>\n",
       "      <td>(22)</td>\n",
       "      <td>Acer ED270R 27\" Black 1920 x 1080 Widescreen 1...</td>\n",
       "      <td>Acer</td>\n",
       "      <td>ED270R</td>\n",
       "      <td>27\"</td>\n",
       "      <td>1920 x 1080</td>\n",
       "      <td>HDMI</td>\n",
       "      <td>No</td>\n",
       "      <td>No</td>\n",
       "    </tr>\n",
       "    <tr>\n",
       "      <td>4</td>\n",
       "      <td>4</td>\n",
       "      <td>Acer America</td>\n",
       "      <td>2,301</td>\n",
       "      <td>Rating + 3</td>\n",
       "      <td>(18)</td>\n",
       "      <td>Acer KG221Q Abmix 22\" (Actual size 21.5\") 1ms ...</td>\n",
       "      <td>Acer</td>\n",
       "      <td>KG221Q Abmix</td>\n",
       "      <td>22\"</td>\n",
       "      <td>1920 x 1080</td>\n",
       "      <td>HDMI</td>\n",
       "      <td>No</td>\n",
       "      <td>No</td>\n",
       "    </tr>\n",
       "  </tbody>\n",
       "</table>\n",
       "</div>"
      ],
      "text/plain": [
       "   Unnamed: 0         Brand  Price      Rating Reviews  \\\n",
       "0           0           MSI  5,706  Rating + 4     (9)   \n",
       "1           1       SAMSUNG  2,273  Rating + 4     (3)   \n",
       "2           2  Acer America  4,565  Rating + 3    (36)   \n",
       "3           3  Acer America  4,991  Rating + 3    (22)   \n",
       "4           4  Acer America  2,301  Rating + 3    (18)   \n",
       "\n",
       "                                         Description   Brand2  \\\n",
       "0  MSI Optix MAG270VC2 27\" Full HD 1920 x 1080 1m...      MSI   \n",
       "1  SAMSUNG LS24F354FHNXZA 24\" (Actual size 23.5\")...  SAMSUNG   \n",
       "2  Acer ED322QR Pbmiipx 32\" (Actual size 31.5\") F...     Acer   \n",
       "3  Acer ED270R 27\" Black 1920 x 1080 Widescreen 1...     Acer   \n",
       "4  Acer KG221Q Abmix 22\" (Actual size 21.5\") 1ms ...     Acer   \n",
       "\n",
       "               Model Size   Dimensions  HDMI  VGA USB  \n",
       "0   Optix MAG270VC2   27\"  1920 x 1080  HDMI   No  No  \n",
       "1    LS24F354FHNXZA   24\"  1920 x 1080  HDMI  VGA  No  \n",
       "2   ED322QR Pbmiipx   32\"  1920 x 1080  HDMI   No  No  \n",
       "3            ED270R   27\"  1920 x 1080  HDMI   No  No  \n",
       "4      KG221Q Abmix   22\"  1920 x 1080  HDMI   No  No  "
      ]
     },
     "execution_count": 17,
     "metadata": {},
     "output_type": "execute_result"
    }
   ],
   "source": [
    "df.head()"
   ]
  },
  {
   "cell_type": "code",
   "execution_count": 18,
   "metadata": {
    "ExecuteTime": {
     "end_time": "2020-09-13T16:42:43.066211Z",
     "start_time": "2020-09-13T16:42:42.970212Z"
    },
    "scrolled": true
   },
   "outputs": [
    {
     "data": {
      "text/html": [
       "<div>\n",
       "<style scoped>\n",
       "    .dataframe tbody tr th:only-of-type {\n",
       "        vertical-align: middle;\n",
       "    }\n",
       "\n",
       "    .dataframe tbody tr th {\n",
       "        vertical-align: top;\n",
       "    }\n",
       "\n",
       "    .dataframe thead th {\n",
       "        text-align: right;\n",
       "    }\n",
       "</style>\n",
       "<table border=\"1\" class=\"dataframe\">\n",
       "  <thead>\n",
       "    <tr style=\"text-align: right;\">\n",
       "      <th></th>\n",
       "      <th>Brand</th>\n",
       "      <th>Brand2</th>\n",
       "      <th>Model</th>\n",
       "      <th>Price</th>\n",
       "      <th>Rating</th>\n",
       "      <th>Reviews</th>\n",
       "      <th>Size</th>\n",
       "      <th>Width</th>\n",
       "      <th>Height</th>\n",
       "      <th>HDMI</th>\n",
       "      <th>VGA</th>\n",
       "      <th>USB</th>\n",
       "      <th>Description</th>\n",
       "    </tr>\n",
       "  </thead>\n",
       "  <tbody>\n",
       "    <tr>\n",
       "      <td>0</td>\n",
       "      <td>MSI</td>\n",
       "      <td>MSI</td>\n",
       "      <td>Optix MAG270VC2</td>\n",
       "      <td>5706.0</td>\n",
       "      <td>4.0</td>\n",
       "      <td>9</td>\n",
       "      <td>27.0</td>\n",
       "      <td>1920</td>\n",
       "      <td>1080</td>\n",
       "      <td>Yes</td>\n",
       "      <td>No</td>\n",
       "      <td>No</td>\n",
       "      <td>MSI Optix MAG270VC2 27\" Full HD 1920 x 1080 1m...</td>\n",
       "    </tr>\n",
       "    <tr>\n",
       "      <td>1</td>\n",
       "      <td>SAMSUNG</td>\n",
       "      <td>SAMSUNG</td>\n",
       "      <td>LS24F354FHNXZA</td>\n",
       "      <td>2273.0</td>\n",
       "      <td>4.0</td>\n",
       "      <td>3</td>\n",
       "      <td>24.0</td>\n",
       "      <td>1920</td>\n",
       "      <td>1080</td>\n",
       "      <td>Yes</td>\n",
       "      <td>Yes</td>\n",
       "      <td>No</td>\n",
       "      <td>SAMSUNG LS24F354FHNXZA 24\" (Actual size 23.5\")...</td>\n",
       "    </tr>\n",
       "    <tr>\n",
       "      <td>2</td>\n",
       "      <td>Acer America</td>\n",
       "      <td>Acer</td>\n",
       "      <td>ED322QR Pbmiipx</td>\n",
       "      <td>4565.0</td>\n",
       "      <td>3.0</td>\n",
       "      <td>36</td>\n",
       "      <td>32.0</td>\n",
       "      <td>1920</td>\n",
       "      <td>1080</td>\n",
       "      <td>Yes</td>\n",
       "      <td>No</td>\n",
       "      <td>No</td>\n",
       "      <td>Acer ED322QR Pbmiipx 32\" (Actual size 31.5\") F...</td>\n",
       "    </tr>\n",
       "    <tr>\n",
       "      <td>3</td>\n",
       "      <td>Acer America</td>\n",
       "      <td>Acer</td>\n",
       "      <td>ED270R</td>\n",
       "      <td>4991.0</td>\n",
       "      <td>3.0</td>\n",
       "      <td>22</td>\n",
       "      <td>27.0</td>\n",
       "      <td>1920</td>\n",
       "      <td>1080</td>\n",
       "      <td>Yes</td>\n",
       "      <td>No</td>\n",
       "      <td>No</td>\n",
       "      <td>Acer ED270R 27\" Black 1920 x 1080 Widescreen 1...</td>\n",
       "    </tr>\n",
       "    <tr>\n",
       "      <td>4</td>\n",
       "      <td>Acer America</td>\n",
       "      <td>Acer</td>\n",
       "      <td>KG221Q Abmix</td>\n",
       "      <td>2301.0</td>\n",
       "      <td>3.0</td>\n",
       "      <td>18</td>\n",
       "      <td>22.0</td>\n",
       "      <td>1920</td>\n",
       "      <td>1080</td>\n",
       "      <td>Yes</td>\n",
       "      <td>No</td>\n",
       "      <td>No</td>\n",
       "      <td>Acer KG221Q Abmix 22\" (Actual size 21.5\") 1ms ...</td>\n",
       "    </tr>\n",
       "  </tbody>\n",
       "</table>\n",
       "</div>"
      ],
      "text/plain": [
       "          Brand   Brand2              Model   Price  Rating  Reviews  Size  \\\n",
       "0           MSI      MSI   Optix MAG270VC2   5706.0     4.0        9  27.0   \n",
       "1       SAMSUNG  SAMSUNG    LS24F354FHNXZA   2273.0     4.0        3  24.0   \n",
       "2  Acer America     Acer   ED322QR Pbmiipx   4565.0     3.0       36  32.0   \n",
       "3  Acer America     Acer            ED270R   4991.0     3.0       22  27.0   \n",
       "4  Acer America     Acer      KG221Q Abmix   2301.0     3.0       18  22.0   \n",
       "\n",
       "   Width Height HDMI  VGA USB  \\\n",
       "0  1920    1080  Yes   No  No   \n",
       "1  1920    1080  Yes  Yes  No   \n",
       "2  1920    1080  Yes   No  No   \n",
       "3  1920    1080  Yes   No  No   \n",
       "4  1920    1080  Yes   No  No   \n",
       "\n",
       "                                         Description  \n",
       "0  MSI Optix MAG270VC2 27\" Full HD 1920 x 1080 1m...  \n",
       "1  SAMSUNG LS24F354FHNXZA 24\" (Actual size 23.5\")...  \n",
       "2  Acer ED322QR Pbmiipx 32\" (Actual size 31.5\") F...  \n",
       "3  Acer ED270R 27\" Black 1920 x 1080 Widescreen 1...  \n",
       "4  Acer KG221Q Abmix 22\" (Actual size 21.5\") 1ms ...  "
      ]
     },
     "execution_count": 18,
     "metadata": {},
     "output_type": "execute_result"
    }
   ],
   "source": [
    "# Transforming the data into the desired format\n",
    "df['Price'] = df['Price'].replace(',','', regex=True).astype(float)\n",
    "df['Rating'] = df['Rating'].replace('Rating \\+', '', regex=True).astype(float)\n",
    "df['Reviews'] = (df['Reviews'].replace(',','', regex=True)\n",
    "                              .replace('[(|)]', '', regex=True).astype(int))\n",
    "df['Size'] = df['Size'].replace('[\"|”|\\'\\']','', regex=True).astype(float)\n",
    "df[['Width', 'Height']] = df[\"Dimensions\"].str.split(\"x\", n = 1, expand = True) \n",
    "df['HDMI'] = df['HDMI'].replace('HDMI','Yes', regex=True)\n",
    "df['VGA'] = df['VGA'].replace('VGA','Yes', regex=True)\n",
    "df['USB'] = df['USB'].replace('USB','Yes', regex=True)\n",
    "df = df[['Brand','Brand2','Model','Price','Rating','Reviews','Size','Width','Height','HDMI','VGA','USB','Description']]\n",
    "df.head()"
   ]
  },
  {
   "cell_type": "code",
   "execution_count": 19,
   "metadata": {
    "ExecuteTime": {
     "end_time": "2020-09-13T16:42:43.434202Z",
     "start_time": "2020-09-13T16:42:43.316207Z"
    }
   },
   "outputs": [],
   "source": [
    "# The tidy dataset is saved into a new file\n",
    "df.to_csv(\"tidyData.csv\", index=False)"
   ]
  },
  {
   "cell_type": "markdown",
   "metadata": {},
   "source": [
    "## 6. Exploratory data analysis\n",
    "\n",
    "For the analysis, the principal will be analyzed but we'll focus the most on a brand comparison of the top selling brands of monitors in the NewEgg e-commerce website. For the analysis we will study:\n",
    "1. Price range of products\n",
    "2. Price-rating relationship\n",
    "3. Principal sizes of monitors\n",
    "4. Top brands by offered products\n",
    "5. Top brands' prices\n",
    "6. Top brands' ratings"
   ]
  },
  {
   "cell_type": "markdown",
   "metadata": {},
   "source": [
    "### 6.1 Price range of products"
   ]
  },
  {
   "cell_type": "code",
   "execution_count": 26,
   "metadata": {
    "ExecuteTime": {
     "end_time": "2020-09-13T18:09:34.948368Z",
     "start_time": "2020-09-13T18:09:34.540371Z"
    },
    "scrolled": false
   },
   "outputs": [
    {
     "data": {
      "image/png": "[encoded data removed]",
      "text/plain": [
       "<Figure size 1152x432 with 1 Axes>"
      ]
     },
     "metadata": {
      "needs_background": "light"
     },
     "output_type": "display_data"
    }
   ],
   "source": [
    "plt.figure(figsize=(16,6))\n",
    "plt.title(\"Price distribution\")\n",
    "ax = sns.distplot(df['Price'])\n",
    "ax.set(xlabel='Price (MXN)', ylabel='Frequency')\n",
    "plt.show()"
   ]
  },
  {
   "cell_type": "markdown",
   "metadata": {},
   "source": [
    "Just for a quick view, the distribution is skewed to the right. This is caused by the most expensive equipment, but we can see that the most frequent prices range from 4,000(MXN) and 5,000(MXN)."
   ]
  },
  {
   "cell_type": "markdown",
   "metadata": {},
   "source": [
    "### 6.2 Price-rating relationship"
   ]
  },
  {
   "cell_type": "code",
   "execution_count": 32,
   "metadata": {
    "ExecuteTime": {
     "end_time": "2020-09-13T18:24:55.959855Z",
     "start_time": "2020-09-13T18:24:55.535832Z"
    }
   },
   "outputs": [
    {
     "data": {
      "image/png": "[encoded data removed]",
      "text/plain": [
       "<Figure size 1152x432 with 1 Axes>"
      ]
     },
     "metadata": {
      "needs_background": "light"
     },
     "output_type": "display_data"
    }
   ],
   "source": [
    "plt.figure(figsize=(16,6))\n",
    "plt.title(\"Price-rating relationship\")\n",
    "ax = sns.boxplot(x=\"Rating\", y=\"Price\", data=df)\n",
    "ax.set(xlabel='Star rating', ylabel='Price (MXN)')\n",
    "plt.show()"
   ]
  },
  {
   "cell_type": "markdown",
   "metadata": {},
   "source": [
    "Also a comparison is made between price and rating. Since we don't have an appropriate way of measuring the quality of the product, the rating and feedback from the users are an approximation to this. From the boxplot above, we can say that the 5 star rating can be found] in all range of prices but mainly from prices in the 2,500 (MXN) and 9,000 (MXN). Another important observations is that the two star rating is more frequent in higher prices than the 1 or 3 star ratings. As expected, the 1 star rating evaluation is found in lower prices, mostly prices bellow 8,000 (MXN). Despite these observations, there is no clear observable relation since all the boxes are not significantly different from each other."
   ]
  },
  {
   "cell_type": "markdown",
   "metadata": {},
   "source": [
    "### 6.3 Principal sizes of monitors"
   ]
  },
  {
   "cell_type": "code",
   "execution_count": 33,
   "metadata": {
    "ExecuteTime": {
     "end_time": "2020-09-13T18:26:01.961904Z",
     "start_time": "2020-09-13T18:26:01.033925Z"
    }
   },
   "outputs": [
    {
     "data": {
      "image/png": "[encoded data removed]",
      "text/plain": [
       "<Figure size 1152x432 with 1 Axes>"
      ]
     },
     "metadata": {
      "needs_background": "light"
     },
     "output_type": "display_data"
    }
   ],
   "source": [
    "plt.figure(figsize=(16,6))\n",
    "plt.title(\"Principal sizes of monitors\")\n",
    "g = sns.distplot(df[df['Size'].notnull()]['Size'])\n",
    "g.set(xticks=range(1,53))\n",
    "g.set(xlabel='Size in inches', ylabel='Frequency')\n",
    "plt.show()"
   ]
  },
  {
   "cell_type": "markdown",
   "metadata": {},
   "source": [
    "From the plot, we can state than the most frequent sizes in sale are 21.5\", 24\" and 27\" monitors. Also we can see that there are no screen sizes of 11\", 20.5\", 26\" and 30\". Finally there are more variation in size in the small screen size than the bigger screen sizes. For the big screen size brand bet with the 44\" screen size."
   ]
  },
  {
   "cell_type": "markdown",
   "metadata": {},
   "source": [
    "### 6.4 Top brands by offered products"
   ]
  },
  {
   "cell_type": "code",
   "execution_count": 36,
   "metadata": {
    "ExecuteTime": {
     "end_time": "2020-09-13T18:37:03.606297Z",
     "start_time": "2020-09-13T18:37:03.166298Z"
    }
   },
   "outputs": [
    {
     "data": {
      "image/png": "[encoded data removed]",
      "text/plain": [
       "<Figure size 1152x432 with 1 Axes>"
      ]
     },
     "metadata": {
      "needs_background": "light"
     },
     "output_type": "display_data"
    }
   ],
   "source": [
    "dfCount = pd.value_counts(df['Brand'].values, sort=True).head(10).to_frame()\n",
    "dfCount.reset_index(inplace=True)\n",
    "dfCount.columns = ['Brand', 'Count']\n",
    "topBrands = dfCount['Brand'].values\n",
    "plt.figure(figsize=(16,6))\n",
    "plt.title(\"Most frequent brands in monitor selling\")\n",
    "plt.grid(alpha=0.3)\n",
    "ax = sns.barplot(x=\"Brand\", y=\"Count\", data=dfCount, palette=\"GnBu_d\")"
   ]
  },
  {
   "cell_type": "markdown",
   "metadata": {},
   "source": [
    "Since there are a lot of different brands, we will focus on the most frequent brands in the dataset, this is the brands that have bigger number of models available in the market. As we see, these brands correspond to the bigger enterprise, but there are also new enterprises entering to the market, not as known as the others, that is the case of Eyoyo. HP has the biggest offer having almost the triple of tha last place that is Philips."
   ]
  },
  {
   "cell_type": "markdown",
   "metadata": {},
   "source": [
    "### 6.5 Top brands' prices"
   ]
  },
  {
   "cell_type": "code",
   "execution_count": 39,
   "metadata": {
    "ExecuteTime": {
     "end_time": "2020-09-13T18:37:37.890531Z",
     "start_time": "2020-09-13T18:37:37.250508Z"
    }
   },
   "outputs": [
    {
     "data": {
      "image/png": "[encoded data removed]",
      "text/plain": [
       "<Figure size 1152x432 with 1 Axes>"
      ]
     },
     "metadata": {
      "needs_background": "light"
     },
     "output_type": "display_data"
    }
   ],
   "source": [
    "dfTop = df[df['Brand'].isin(list(topBrands))].copy()\n",
    "plt.figure(figsize=(16,6))\n",
    "plt.title(\"Top brands' prices\")\n",
    "ax = sns.boxplot(x=\"Brand\", y=\"Price\", data=dfTop)\n",
    "ax.set(xlabel='Brand', ylabel='Price (MXN)')\n",
    "plt.show()"
   ]
  },
  {
   "cell_type": "markdown",
   "metadata": {},
   "source": [
    "Now we can get a better sense of the data by plotting the distribution of prices of the top brands found. We can see that Samsung, ViewSonic and Philips offer the most wide range of prices, being Philips a little bit more expensive than Samsung. Studying Eyoyo we can state that is a brand of cheaper equipment, also Acer offers a equipment with a low price but Eyoyo has the lowest prices. On the other hand, Philips and LG have the most espensive prices among them. We can state from the median position that at elast 50% of the total products' prices are lower than 6,000 (MXN)."
   ]
  },
  {
   "cell_type": "markdown",
   "metadata": {},
   "source": [
    "### 6.6 Top brands' ratings"
   ]
  },
  {
   "cell_type": "code",
   "execution_count": 40,
   "metadata": {
    "ExecuteTime": {
     "end_time": "2020-09-13T18:49:21.423902Z",
     "start_time": "2020-09-13T18:49:20.791903Z"
    }
   },
   "outputs": [
    {
     "data": {
      "image/png": "[encoded data removed]",
      "text/plain": [
       "<Figure size 1152x432 with 1 Axes>"
      ]
     },
     "metadata": {
      "needs_background": "light"
     },
     "output_type": "display_data"
    }
   ],
   "source": [
    "plt.figure(figsize=(16,6))\n",
    "plt.title(\"Top brands' ratings\")\n",
    "ax = sns.boxplot(x=\"Brand\", y=\"Rating\", data=dfTop)"
   ]
  },
  {
   "cell_type": "markdown",
   "metadata": {},
   "source": [
    "From the boxplot of prices, we can see that for most of the brands the rates range between 4 and 5 stars. The best rated brand is HP because most of the brands have their first percentile (25% of ratings) between 3 and 4 stars, meanwhile HP 100% of rates are between 4 and 5 rates. Also for ASUS ans DELL ratings, there are 100% rated with 4 star, that means that there only a few cases with 5 star ratings (showed as outliers in the plot). The worst rated brand is Eyoyo since 25% of their rates are below 3 stars, and more than 50% of the rates are not a 5 star rating, this is awful in comparison with the other brands."
   ]
  },
  {
   "cell_type": "markdown",
   "metadata": {},
   "source": [
    "## Conclusions\n",
    "\n",
    "From all the analysis made above, we can state that:\n",
    "1. The most frequent range of price for a monitor is between 4,000(MXN) and 5,000(MXN), with at least 50% of the products below 6,000(MXN).\n",
    "2. For the high value monitors is more frequent the 5 rating meanwhile for lower price monitors are lower star ratings.\n",
    "3. The most frequent screen sizes are 21.5\", 24\" and 27\".\n",
    "4. Establish the best brand is a complicated assignment, but we can have a better sense according to the price of the monitor.\n",
    "    - For lower prices Eyoyo is not the best option, Acer it's a little bit more expensive but it totally makes up in the quality, as is shown in the ratings.\n",
    "    - For average prices HP has the best satisfaction rating among all the brands in all places but the prices of the brand range are pretty average.\n",
    "    - For higher prices Philips is the best option but not for a big difference, Philips was chosen because the absence of outlier low ratings."
   ]
  }
 ],
 "metadata": {
  "kernelspec": {
   "display_name": "Python 3",
   "language": "python",
   "name": "python3"
  },
  "language_info": {
   "codemirror_mode": {
    "name": "ipython",
    "version": 3
   },
   "file_extension": ".py",
   "mimetype": "text/x-python",
   "name": "python",
   "nbconvert_exporter": "python",
   "pygments_lexer": "ipython3",
   "version": "3.7.4"
  },
  "varInspector": {
   "cols": {
    "lenName": 16,
    "lenType": 16,
    "lenVar": 40
   },
   "kernels_config": {
    "python": {
     "delete_cmd_postfix": "",
     "delete_cmd_prefix": "del ",
     "library": "var_list.py",
     "varRefreshCmd": "print(var_dic_list())"
    },
    "r": {
     "delete_cmd_postfix": ") ",
     "delete_cmd_prefix": "rm(",
     "library": "var_list.r",
     "varRefreshCmd": "cat(var_dic_list()) "
    }
   },
   "types_to_exclude": [
    "module",
    "function",
    "builtin_function_or_method",
    "instance",
    "_Feature"
   ],
   "window_display": false
  }
 },
 "nbformat": 4,
 "nbformat_minor": 2
}
